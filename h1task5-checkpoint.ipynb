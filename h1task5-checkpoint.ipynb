{
 "cells": [
  {
   "cell_type": "markdown",
   "id": "03962387-e8e1-4c06-91f4-9d9ff6c52690",
   "metadata": {},
   "source": [
    "# (Не)правильная монета"
   ]
  },
  {
   "cell_type": "code",
   "execution_count": 48,
   "id": "87fe8ba4-896d-49fb-a239-7490074c2749",
   "metadata": {},
   "outputs": [
    {
     "name": "stdout",
     "output_type": "stream",
     "text": [
      "0.508\n",
      "0.562\n"
     ]
    }
   ],
   "source": [
    "import random\n",
    "import numpy as np\n",
    "    \n",
    "def flip(prob):\n",
    "    mas = [0,1] #(решка,орел)\n",
    "    np.random.seed()\n",
    "    return np.random.choice(mas, 500, 1, p=[1-prob, prob])\n",
    "\n",
    "a1 = flip(0.5).tolist()\n",
    "a2 = flip(0.51).tolist()\n",
    "\n",
    "print(a1.count(1)/len(a1))\n",
    "print(a2.count(1)/len(a2))\n",
    "\n",
    "    \n",
    "    "
   ]
  },
  {
   "cell_type": "markdown",
   "id": "24b1e64f-5826-46c2-b83f-51660bc76cb7",
   "metadata": {},
   "source": [
    "a) Таким образом, для правильной монеты получилась доля выпадения орла = 0.508, для неправильной = 0.562. \n",
    "А эти числа точно отличаются от 0.5 и 0.51, которые бы мы ожидали по наивному представлению."
   ]
  },
  {
   "cell_type": "code",
   "execution_count": 74,
   "id": "85a682f8-fb30-4d5f-9977-5b05a950956a",
   "metadata": {},
   "outputs": [
    {
     "name": "stdout",
     "output_type": "stream",
     "text": [
      "1\n",
      "0.504\n",
      "0.518\n",
      "\n",
      "2\n",
      "0.506\n",
      "0.51\n",
      "\n",
      "3\n",
      "0.522\n",
      "0.498\n",
      "\n",
      "4\n",
      "0.476\n",
      "0.512\n",
      "\n",
      "5\n",
      "0.5\n",
      "0.474\n",
      "\n",
      "6\n",
      "0.54\n",
      "0.524\n",
      "\n",
      "7\n",
      "0.52\n",
      "0.524\n",
      "\n",
      "8\n",
      "0.534\n",
      "0.51\n",
      "\n",
      "9\n",
      "0.488\n",
      "0.5\n",
      "\n",
      "10\n",
      "0.506\n",
      "0.502\n",
      "\n",
      "AVG\n",
      "0.5096 0.5072\n"
     ]
    }
   ],
   "source": [
    "import random\n",
    "import numpy as np\n",
    "    \n",
    "def flip(prob):\n",
    "    mas = [0,1] #(решка,орел)\n",
    "    np.random.seed()\n",
    "    return np.random.choice(mas, 500, 1, p=[1-prob, prob])\n",
    "\n",
    "summ_1 = 0\n",
    "summ_2 = 0\n",
    "for i in range(10):\n",
    "    a1 = flip(0.5).tolist()\n",
    "    a2 = flip(0.51).tolist()\n",
    "    c1 = a1.count(1)/len(a1)\n",
    "    c2 = a2.count(1)/len(a2)\n",
    "\n",
    "    print(i+1)\n",
    "    print(c1)\n",
    "    print(c2)\n",
    "    print('')\n",
    "    summ_1+=c1\n",
    "    summ_2+=c2\n",
    "\n",
    "print('AVG')\n",
    "print(summ_1/10, summ_2/10)\n",
    "\n"
   ]
  },
  {
   "cell_type": "markdown",
   "id": "4bb72a22-c143-4fb0-b6af-43de9216367b",
   "metadata": {},
   "source": [
    "б) Не всегда это может помочь определить неправильную монету. Например, из этих 10 попыток мы может увидеть, что правильная монета иногда показывала долю выпадения орла меньшую, чем в неправильной монете, иногда было наоборот. В итоге средний результат показал, что правильная монета была дальше от 0.5, чем неправильная, поэтому точно все еще нельзя предсказать. "
   ]
  },
  {
   "cell_type": "code",
   "execution_count": 75,
   "id": "b54c82de-9226-4682-b483-bf75622e3c6f",
   "metadata": {},
   "outputs": [
    {
     "name": "stdout",
     "output_type": "stream",
     "text": [
      "1\n",
      "0.514\n",
      "0.53\n",
      "\n",
      "2\n",
      "0.486\n",
      "0.496\n",
      "\n",
      "3\n",
      "0.496\n",
      "0.5\n",
      "\n",
      "4\n",
      "0.526\n",
      "0.532\n",
      "\n",
      "5\n",
      "0.468\n",
      "0.492\n",
      "\n",
      "6\n",
      "0.504\n",
      "0.548\n",
      "\n",
      "7\n",
      "0.5\n",
      "0.502\n",
      "\n",
      "8\n",
      "0.534\n",
      "0.492\n",
      "\n",
      "9\n",
      "0.494\n",
      "0.508\n",
      "\n",
      "10\n",
      "0.488\n",
      "0.518\n",
      "\n",
      "AVG\n",
      "0.501 0.5117999999999999\n"
     ]
    }
   ],
   "source": [
    "import random\n",
    "import numpy as np\n",
    "    \n",
    "def flip(prob):\n",
    "    mas = [0,1] #(решка,орел)\n",
    "    np.random.seed()\n",
    "    return np.random.choice(mas, 500, 1, p=[1-prob, prob])\n",
    "\n",
    "summ_1 = 0\n",
    "summ_2 = 0\n",
    "for i in range(10):\n",
    "    a1 = flip(0.5).tolist()\n",
    "    a2 = flip(0.51).tolist()\n",
    "    c1 = a1.count(1)/len(a1)\n",
    "    c2 = a2.count(1)/len(a2)\n",
    "\n",
    "    print(i+1)\n",
    "    print(c1)\n",
    "    print(c2)\n",
    "    print('')\n",
    "    summ_1+=c1\n",
    "    summ_2+=c2\n",
    "\n",
    "print('AVG')\n",
    "print(summ_1/10, summ_2/10)"
   ]
  },
  {
   "cell_type": "markdown",
   "id": "1efd2758-741f-48a1-9cd4-cd2c528dc60f",
   "metadata": {},
   "source": [
    "Однако, например, в этом случае правильная монета ближе к наивной вероятности."
   ]
  },
  {
   "cell_type": "code",
   "execution_count": null,
   "id": "e1886fba-718e-4c33-b31f-fc32fd7238b2",
   "metadata": {},
   "outputs": [],
   "source": []
  }
 ],
 "metadata": {
  "kernelspec": {
   "display_name": "Python 3 (ipykernel)",
   "language": "python",
   "name": "python3"
  },
  "language_info": {
   "codemirror_mode": {
    "name": "ipython",
    "version": 3
   },
   "file_extension": ".py",
   "mimetype": "text/x-python",
   "name": "python",
   "nbconvert_exporter": "python",
   "pygments_lexer": "ipython3",
   "version": "3.12.1"
  }
 },
 "nbformat": 4,
 "nbformat_minor": 5
}
